{
 "cells": [
  {
   "cell_type": "code",
   "execution_count": 171,
   "id": "66d9dc70",
   "metadata": {},
   "outputs": [],
   "source": [
    "# retrograde\n",
    "datapath_ret = \"/data4/DayeKim/DK/eflash_outputfile/imi/imi6 T\"\n",
    "\n",
    "datapath561 = datapath_ret + \"/positive_predicted_points4.json\"\n",
    "\n",
    "datapath488 = datapath_ret + \"/IMI_6_488_detect_blobs_th150.json\"\n",
    "\n"
   ]
  },
  {
   "cell_type": "code",
   "execution_count": 172,
   "id": "cdd0b1b5",
   "metadata": {},
   "outputs": [
    {
     "name": "stdout",
     "output_type": "stream",
     "text": [
      "(6917, 3)\n",
      "(157116, 3)\n"
     ]
    }
   ],
   "source": [
    "\n",
    "import numpy as np\n",
    "import json\n",
    "\n",
    "with open(datapath488, 'r') as file:\n",
    "    data_488 = np.array(json.load(file))\n",
    "\n",
    "with open(datapath561, 'r') as file:\n",
    "    data_561 = np.array(json.load(file))\n",
    "    \n",
    "        \n",
    "with open(datapath488, 'r') as file:\n",
    "    ori_data_488 = np.array(json.load(file))\n",
    "    \n",
    "with open(datapath561, 'r') as file:\n",
    "    ori_data_561 = np.array(json.load(file))\n",
    "\n",
    "print(data_561.shape)\n",
    "print(data_488.shape)\n"
   ]
  },
  {
   "cell_type": "code",
   "execution_count": 173,
   "id": "21108400",
   "metadata": {},
   "outputs": [
    {
     "name": "stdout",
     "output_type": "stream",
     "text": [
      "(6917, 3)\n",
      "(157116, 3)\n"
     ]
    }
   ],
   "source": [
    "print(ori_data_561.shape)\n",
    "print(ori_data_488.shape)"
   ]
  },
  {
   "cell_type": "code",
   "execution_count": 174,
   "id": "4985e627",
   "metadata": {},
   "outputs": [
    {
     "name": "stderr",
     "output_type": "stream",
     "text": [
      "100%|████████████████████████████████████████████████| 6917/6917 [00:04<00:00, 1466.72it/s]\n"
     ]
    }
   ],
   "source": [
    "from scipy.spatial.distance import cdist\n",
    "import tqdm\n",
    "co_responding_cells_488 = []\n",
    "co_responding_561_488 = []\n",
    "co_ind = []\n",
    "co_561_int = 0\n",
    "co_561_ind = []\n",
    "\n",
    "for g_point in tqdm.tqdm(data_561):\n",
    "    distances_488 = cdist([g_point], data_488)\n",
    "    \n",
    "    ind_488 = np.argmin(distances_488)\n",
    "    \n",
    "    dist_488 = distances_488[0, ind_488]\n",
    "    if dist_488 <= 10:\n",
    "        co_responding_cells_488.append(data_488[ind_488].copy().tolist())\n",
    "        co_responding_561_488.append(g_point.copy().tolist())\n",
    "        co_ind.append(ind_488.copy().tolist())\n",
    "        co_561_ind.append(co_561_int)\n",
    "        data_488[ind_488] = np.array([np.inf, np.inf, np.inf])\n",
    "    co_561_int +=1\n",
    "      "
   ]
  },
  {
   "cell_type": "code",
   "execution_count": 175,
   "id": "42816f1f",
   "metadata": {},
   "outputs": [
    {
     "name": "stdout",
     "output_type": "stream",
     "text": [
      "(1280, 3)\n"
     ]
    }
   ],
   "source": [
    "# for Fig1\n",
    "#filtered_data_488 = [ori_data_488[i].tolist() for i in range(len(ori_data_488)) if i not in co_ind]\n",
    "filtered_data_561 = [ori_data_561[i].tolist() for i in range(len(ori_data_561)) if i not in co_561_ind]\n",
    "\n",
    "#print(np.array(filtered_data_488).shape)\n",
    "print(np.array(filtered_data_561).shape)"
   ]
  },
  {
   "cell_type": "code",
   "execution_count": 177,
   "id": "906b3311",
   "metadata": {},
   "outputs": [],
   "source": [
    "savepath = datapath_ret + \"/10_check_561.json\"\n",
    "\n",
    "with open(savepath, 'w') as file:\n",
    "    json.dump(filtered_data_561, file)\n",
    "    \n",
    "#savepath2 = datapath_ret + \"/10_check_488.json\"\n",
    "\n",
    "#with open(savepath2, 'w') as file:\n",
    "#    json.dump(filtered_data_488, file)\n",
    "    \n",
    "savepath = datapath_ret + \"/10_co_check_561.json\"\n",
    "\n",
    "with open(savepath, 'w') as file:\n",
    "    json.dump(co_responding_561_488, file)\n",
    "    \n",
    "savepath2 = datapath_ret + \"/10_co_check_488.json\"\n",
    "\n",
    "with open(savepath2, 'w') as file:\n",
    "    json.dump(co_responding_cells_488, file)"
   ]
  },
  {
   "cell_type": "code",
   "execution_count": 176,
   "id": "f55ee84a",
   "metadata": {},
   "outputs": [
    {
     "data": {
      "text/plain": [
       "(5637, 3)"
      ]
     },
     "execution_count": 176,
     "metadata": {},
     "output_type": "execute_result"
    }
   ],
   "source": [
    "np.array(co_responding_561_488).shape"
   ]
  },
  {
   "cell_type": "code",
   "execution_count": 170,
   "id": "6098267e",
   "metadata": {},
   "outputs": [
    {
     "data": {
      "text/plain": [
       "(2859, 3)"
      ]
     },
     "execution_count": 170,
     "metadata": {},
     "output_type": "execute_result"
    }
   ],
   "source": [
    "np.array(filtered_data_561).shape"
   ]
  },
  {
   "cell_type": "code",
   "execution_count": null,
   "id": "8aaa98fa",
   "metadata": {},
   "outputs": [],
   "source": []
  },
  {
   "cell_type": "code",
   "execution_count": null,
   "id": "dfdfc0a1",
   "metadata": {},
   "outputs": [],
   "source": []
  },
  {
   "cell_type": "markdown",
   "id": "4b76df96",
   "metadata": {},
   "source": [
    "### Mannually delete the points\n"
   ]
  },
  {
   "cell_type": "code",
   "execution_count": 463,
   "id": "d6f38dc0",
   "metadata": {},
   "outputs": [],
   "source": [
    "datapath_ret = \"/data4/DayeKim/DK/eflash_outputfile/imi/imi4_C/IMI4_T\"\n",
    "\n",
    "datapath561 = datapath_ret + \"/positive_predicted_points.json\"\n",
    "\n",
    "\n",
    "import numpy as np\n",
    "import json\n",
    "\n",
    "with open(datapath561, 'r') as file:\n",
    "    points = np.array(json.load(file))"
   ]
  },
  {
   "cell_type": "code",
   "execution_count": 464,
   "id": "d6d1d5e3",
   "metadata": {},
   "outputs": [],
   "source": [
    "import numpy as np\n",
    "\n",
    "def remove_points_in_rectangle(A, rect):\n",
    "    x_left, y_top, width, height = rect\n",
    "    x_right = x_left + width\n",
    "    y_bottom = y_top + height\n",
    "\n",
    "    # 사각형 영역에 속하는 점을 필터링하여 제거\n",
    "    mask = ~((A[:, 0] >= x_left) & (A[:, 0] <= x_right) &\n",
    "             (A[:, 1] >= y_top) & (A[:, 1] <= y_bottom))\n",
    "\n",
    "    return A[mask].tolist()\n"
   ]
  },
  {
   "cell_type": "code",
   "execution_count": 465,
   "id": "c3160775",
   "metadata": {},
   "outputs": [],
   "source": [
    "import numpy as np\n",
    "\n",
    "def find_points_in_rectangle(A, rect):\n",
    "    x_left, y_top, width, height = rect\n",
    "    x_right = x_left + width\n",
    "    y_bottom = y_top + height\n",
    "\n",
    "    # 사각형 영역에 속하는 점을 필터링하여 제거\n",
    "    mask = ((A[:, 0] >= x_left) & (A[:, 0] <= x_right) &\n",
    "             (A[:, 1] >= y_top) & (A[:, 1] <= y_bottom))\n",
    "\n",
    "    return A[mask].tolist()\n"
   ]
  },
  {
   "cell_type": "code",
   "execution_count": 448,
   "id": "2758dd87",
   "metadata": {},
   "outputs": [],
   "source": [
    "#A = [[5413, 4225, 186, 170], [5158, 5953, 299, 262], [5091, 5612, 588, 321], [4510, 5515, 490, 628], [5145, 4590, 158, 90], [5356, 4229, 193, 113], [5223, 4028, 103, 241], [4742, 3665, 103, 190], [4298, 4458, 301, 507], [4287, 4246, 105, 276], [4288, 4086, 133, 126], [4310, 3777, 109, 174], [3282, 2744, 311, 489], [3411, 112, 1280, 1748], [1810, 7198, 1113, 873]]\n",
    "#for item in A:\n",
    "#    points=remove_points_8in_rectangle(np.array(points),item)\n",
    "B = [5504, 160, 512, 560]\n",
    "points=remove_points_in_rectangle(np.array(points),B)\n",
    "\n",
    "#points_r1 = find_points_in_rectangle(np.array(points),[3716, 2322, 175, 256])\n",
    "\n"
   ]
  },
  {
   "cell_type": "code",
   "execution_count": 466,
   "id": "18e3dfbe",
   "metadata": {},
   "outputs": [],
   "source": [
    "A = [3909, 2039, 900, 1395]\n",
    "points = find_points_in_rectangle(np.array(points),A)\n"
   ]
  },
  {
   "cell_type": "code",
   "execution_count": 468,
   "id": "53f7ace6",
   "metadata": {},
   "outputs": [
    {
     "data": {
      "text/plain": [
       "(3890, 3)"
      ]
     },
     "execution_count": 468,
     "metadata": {},
     "output_type": "execute_result"
    }
   ],
   "source": [
    "np.array(points).shape"
   ]
  },
  {
   "cell_type": "code",
   "execution_count": 449,
   "id": "01255a26",
   "metadata": {},
   "outputs": [],
   "source": [
    "savepath2 = datapath_ret + \"/positive_predicted_points2.json\"\n",
    "\n",
    "with open(savepath2, 'w') as file:\n",
    "    json.dump(points, file)"
   ]
  },
  {
   "cell_type": "code",
   "execution_count": null,
   "id": "0aa03212",
   "metadata": {},
   "outputs": [],
   "source": []
  },
  {
   "cell_type": "markdown",
   "id": "0b83a6aa",
   "metadata": {},
   "source": [
    "## CheckNum"
   ]
  },
  {
   "cell_type": "code",
   "execution_count": 469,
   "id": "ae149b8a",
   "metadata": {},
   "outputs": [],
   "source": [
    "datapath561= \"/data4/DayeKim/DK/eflash_outputfile/imi/\"\n",
    "file = \"imi4_C/IMI4_T/positive_predicted_points.json\"\n",
    "\n",
    "with open(datapath561+file, 'r') as file:\n",
    "    data_561 = np.array(json.load(file))\n",
    "    \n",
    "# # T=imi10,imi13, imi3, imi1, imi11, << imi6 (적은순)\n",
    "# C=imi4, imi2, imi14 / imi5, imi8  (많은순)"
   ]
  },
  {
   "cell_type": "code",
   "execution_count": 470,
   "id": "3a7f17f6",
   "metadata": {},
   "outputs": [
    {
     "data": {
      "text/plain": [
       "(4302, 3)"
      ]
     },
     "execution_count": 470,
     "metadata": {},
     "output_type": "execute_result"
    }
   ],
   "source": [
    "data_561.shape"
   ]
  },
  {
   "cell_type": "code",
   "execution_count": 471,
   "id": "82c001c6",
   "metadata": {},
   "outputs": [
    {
     "data": {
      "text/plain": [
       "0.10591259640102828"
      ]
     },
     "execution_count": 471,
     "metadata": {},
     "output_type": "execute_result"
    }
   ],
   "source": [
    "source = (3890)\n",
    "v = (data_561.shape[0] - source) / source\n",
    "v"
   ]
  },
  {
   "cell_type": "code",
   "execution_count": null,
   "id": "55a97235",
   "metadata": {},
   "outputs": [],
   "source": [
    "# IMI3, IMI10, IMI8, IMI13, IMI14\n",
    "imi10_T = 0.03883935318119994\n",
    "imi13_T = 0.0833580100681078\n",
    "imi11_T = 0.08734939759036145\n",
    "\n",
    "#imi3_T = 0.09203886420125028\n",
    "#imi1_T = 0.11137440758293839\n",
    "#imi6_T = 0.12143811219946572\n",
    "\n",
    "imi2_C = 0.3768595041322314\n",
    "imi4_C = 0.10591259640102828\n",
    "imi14_C = 0.09050106087808063\n",
    "\n",
    "#imi8_C = 0.07846862871927555\n",
    "#imi5_C = 0.058388765705838876\n",
    "\n"
   ]
  }
 ],
 "metadata": {
  "kernelspec": {
   "display_name": "Python 3 (ipykernel)",
   "language": "python",
   "name": "python3"
  },
  "language_info": {
   "codemirror_mode": {
    "name": "ipython",
    "version": 3
   },
   "file_extension": ".py",
   "mimetype": "text/x-python",
   "name": "python",
   "nbconvert_exporter": "python",
   "pygments_lexer": "ipython3",
   "version": "3.8.5"
  }
 },
 "nbformat": 4,
 "nbformat_minor": 5
}
